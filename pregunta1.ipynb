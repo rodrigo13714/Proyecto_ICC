{
  "cells": [
    {
      "cell_type": "code",
      "execution_count": 1,
      "metadata": {
        "id": "N4zV5rGqZv5_"
      },
      "outputs": [],
      "source": [
        "#importar las librerias\n",
        "import pandas as pd\n",
        "from sklearn.feature_extraction.text import CountVectorizer\n",
        "from sklearn.feature_extraction.text import TfidfVectorizer\n",
        "from sklearn.cluster import KMeans\n"
      ]
    },
    {
      "cell_type": "code",
      "execution_count": null,
      "metadata": {
        "id": "M2LZsKHqZ3yc"
      },
      "outputs": [],
      "source": [
        "dataset = pd.read_csv(\"smogon.csv\")\n",
        "print(dataset)"
      ]
    },
    {
      "cell_type": "code",
      "execution_count": null,
      "metadata": {
        "id": "y3QcWvjDZ7Ru"
      },
      "outputs": [],
      "source": [
        "vec = TfidfVectorizer(ngram_range=(2,3))\n",
        "x = vec.fit_transform(dataset[\"moves\"])\n",
        "z = sorted(vec.vocabulary_.keys())\n",
        "num_tokens=len(vec.vocabulary_)\n",
        "print(num_tokens)"
      ]
    },
    {
      "cell_type": "code",
      "execution_count": null,
      "metadata": {},
      "outputs": [],
      "source": [
        "tf = pd.DataFrame(data = x.toarray(), columns=z)\n",
        "km = KMeans(n_clusters=18, n_init=10)\n",
        "kmlista = km.fit_predict(tf)\n",
        "tf[\"Tipo\"] = kmlista"
      ]
    },
    {
      "cell_type": "code",
      "execution_count": null,
      "metadata": {
        "id": "FUIuqpi7aEa1"
      },
      "outputs": [],
      "source": [
        "print(vec.vocabulary_)"
      ]
    },
    {
      "cell_type": "code",
      "execution_count": null,
      "metadata": {
        "id": "fPUB6kI0aG_g"
      },
      "outputs": [],
      "source": [
        "print(kmlista)"
      ]
    },
    {
      "cell_type": "code",
      "execution_count": null,
      "metadata": {
        "id": "pZUji0XZaHVi"
      },
      "outputs": [],
      "source": [
        "print(tf)"
      ]
    },
    {
      "cell_type": "code",
      "execution_count": null,
      "metadata": {
        "id": "85oWE8cqaLuv"
      },
      "outputs": [],
      "source": [
        "tf.to_csv(\"Smogon_agrupados.csv\")\n"
      ]
    }
  ],
  "metadata": {
    "colab": {
      "provenance": []
    },
    "kernelspec": {
      "display_name": "Python 3",
      "name": "python3"
    },
    "language_info": {
      "name": "python"
    }
  },
  "nbformat": 4,
  "nbformat_minor": 0
}
