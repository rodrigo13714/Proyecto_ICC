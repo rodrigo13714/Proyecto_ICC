{
  "nbformat": 4,
  "nbformat_minor": 0,
  "metadata": {
    "colab": {
      "provenance": []
    },
    "kernelspec": {
      "name": "python3",
      "display_name": "Python 3"
    },
    "language_info": {
      "name": "python"
    }
  },
  "cells": [
    {
      "cell_type": "code",
      "execution_count": 1,
      "metadata": {
        "id": "N4zV5rGqZv5_"
      },
      "outputs": [],
      "source": [
        "#importar las librerias\n",
        "import pandas as pd\n",
        "from sklearn.feature_extraction.text import CountVectorizer\n",
        "from sklearn.feature_extraction.text import TfidfVectorizer\n",
        "from sklearn.cluster import KMeans\n"
      ]
    },
    {
      "cell_type": "code",
      "source": [
        "dataset = pd.read_csv(\"smogon.csv\")\n",
        "print(dataset)"
      ],
      "metadata": {
        "id": "M2LZsKHqZ3yc"
      },
      "execution_count": null,
      "outputs": []
    },
    {
      "cell_type": "code",
      "source": [
        "vec = TfidfVectorizer(ngram_range=(2,3))\n",
        "x = vec.fit_transform(dataset[\"moves\"])\n",
        "z = sorted(vec.vocabulary_.keys())\n",
        "tf = pd.DataFrame(data = x.toarray(), columns=z)\n",
        "\n",
        "km = KMeans(n_clusters=18, n_init=10)\n",
        "kmlista = km.fit_predict(tf)\n",
        "tf[\"Tipo\"] = kmlista"
      ],
      "metadata": {
        "id": "y3QcWvjDZ7Ru"
      },
      "execution_count": null,
      "outputs": []
    },
    {
      "cell_type": "code",
      "source": [
        "print(vec.vocabulary_)"
      ],
      "metadata": {
        "id": "FUIuqpi7aEa1"
      },
      "execution_count": null,
      "outputs": []
    },
    {
      "cell_type": "code",
      "source": [
        "print(kmlista)"
      ],
      "metadata": {
        "id": "fPUB6kI0aG_g"
      },
      "execution_count": null,
      "outputs": []
    },
    {
      "cell_type": "code",
      "source": [
        "print(tf)"
      ],
      "metadata": {
        "id": "pZUji0XZaHVi"
      },
      "execution_count": null,
      "outputs": []
    },
    {
      "cell_type": "code",
      "source": [
        "tf.to_csv(\"Smogon_agrupados.csv\")\n"
      ],
      "metadata": {
        "id": "85oWE8cqaLuv"
      },
      "execution_count": null,
      "outputs": []
    }
  ]
}